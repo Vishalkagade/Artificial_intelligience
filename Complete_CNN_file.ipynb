{
 "cells": [
  {
   "cell_type": "code",
   "execution_count": 24,
   "metadata": {},
   "outputs": [],
   "source": [
    "import os\n",
    "from time import time\n",
    "from tqdm import tqdm\n",
    "import numpy\n",
    "\n",
    "import torch\n",
    "from torch.nn import Linear, CrossEntropyLoss\n",
    "from torch.optim import Adam\n",
    "from torch.utils.data import DataLoader\n",
    "\n",
    "import torchvision\n",
    "from torchvision.datasets import ImageFolder\n",
    "from torchvision.models import mobilenet_v2\n",
    "from torchvision.transforms import transforms\n",
    "import cv2\n",
    "import matplotlib.pyplot as plt\n",
    "\n",
    "# Device\n",
    "device = torch.device(\"cuda\" if torch.cuda.is_available() else \"cpu\")"
   ]
  },
  {
   "cell_type": "code",
   "execution_count": 35,
   "metadata": {},
   "outputs": [
    {
     "data": {
      "text/plain": [
       "device(type='cuda')"
      ]
     },
     "execution_count": 35,
     "metadata": {},
     "output_type": "execute_result"
    }
   ],
   "source": [
    "device"
   ]
  },
  {
   "cell_type": "code",
   "execution_count": 25,
   "metadata": {},
   "outputs": [],
   "source": [
    "file = r\"C:\\Users\\Vishal Kagade\\Desktop\\CAR Classification\\CarData\\PokemonData\""
   ]
  },
  {
   "cell_type": "code",
   "execution_count": 26,
   "metadata": {},
   "outputs": [],
   "source": [
    "test_file = r\"C:\\Users\\Vishal Kagade\\Desktop\\CAR Classification\\CarData\\test_pokemon\""
   ]
  },
  {
   "cell_type": "code",
   "execution_count": 31,
   "metadata": {},
   "outputs": [],
   "source": [
    "import glob"
   ]
  },
  {
   "cell_type": "code",
   "execution_count": 34,
   "metadata": {},
   "outputs": [],
   "source": [
    "for classes in os.listdir(file):\n",
    "    path = os.path.join(test_file,classes)\n",
    "    path1 = os.path.join(file,classes)\n",
    "    os.mkdir(path)\n",
    "    count = 0\n",
    "    for image_path in os.listdir(path1):\n",
    "        joined_path = os.path.join(path1,image_path)\n",
    "        joined_path_update = os.path.join(path,image_path)\n",
    "        img = cv2.imread(joined_path)\n",
    "        cv2.imwrite(joined_path_update,img)\n",
    "        os.remove(joined_path)\n",
    "        count += 1\n",
    "        if count == 5:\n",
    "           break\n",
    "    #break"
   ]
  },
  {
   "cell_type": "code",
   "execution_count": 2,
   "metadata": {},
   "outputs": [
    {
     "data": {
      "text/plain": [
       "device(type='cuda')"
      ]
     },
     "execution_count": 2,
     "metadata": {},
     "output_type": "execute_result"
    }
   ],
   "source": [
    "device"
   ]
  },
  {
   "cell_type": "code",
   "execution_count": 48,
   "metadata": {},
   "outputs": [],
   "source": [
    "# Data Transformer\n",
    "tfm = transforms.Compose([\n",
    "    transforms.Resize((64, 64)),\n",
    "    transforms.RandomHorizontalFlip(),\n",
    "    transforms.RandomRotation(degrees=10),\n",
    "    transforms.ToTensor(),\n",
    "    transforms.Normalize([0.485, 0.456, 0.406], [0.229, 0.224, 0.225])\n",
    "])"
   ]
  },
  {
   "cell_type": "code",
   "execution_count": null,
   "metadata": {},
   "outputs": [],
   "source": []
  },
  {
   "cell_type": "code",
   "execution_count": 49,
   "metadata": {},
   "outputs": [],
   "source": [
    "# Create Dataset\n",
    "TRAIN_ROOT = r\"C:\\Users\\Vishal Kagade\\Desktop\\CAR Classification\\CarData\\PokemonData\"\n",
    "TEST_ROOT = r\"C:\\Users\\Vishal Kagade\\Desktop\\CAR Classification\\CarData\\test_pokemon\"\n",
    "\n",
    "train_ds = ImageFolder(TRAIN_ROOT, transform=tfm)\n",
    "test_ds = ImageFolder(TEST_ROOT, transform=tfm)"
   ]
  },
  {
   "cell_type": "code",
   "execution_count": 50,
   "metadata": {},
   "outputs": [
    {
     "name": "stdout",
     "output_type": "stream",
     "text": [
      "6070 750\n",
      "{'Abra': 0, 'Aerodactyl': 1, 'Alakazam': 2, 'Alolan Sandslash': 3, 'Arbok': 4, 'Arcanine': 5, 'Articuno': 6, 'Beedrill': 7, 'Bellsprout': 8, 'Blastoise': 9, 'Bulbasaur': 10, 'Butterfree': 11, 'Caterpie': 12, 'Chansey': 13, 'Charizard': 14, 'Charmander': 15, 'Charmeleon': 16, 'Clefable': 17, 'Clefairy': 18, 'Cloyster': 19, 'Cubone': 20, 'Dewgong': 21, 'Diglett': 22, 'Ditto': 23, 'Dodrio': 24, 'Doduo': 25, 'Dragonair': 26, 'Dragonite': 27, 'Dratini': 28, 'Drowzee': 29, 'Dugtrio': 30, 'Eevee': 31, 'Ekans': 32, 'Electabuzz': 33, 'Electrode': 34, 'Exeggcute': 35, 'Exeggutor': 36, 'Farfetchd': 37, 'Fearow': 38, 'Flareon': 39, 'Gastly': 40, 'Gengar': 41, 'Geodude': 42, 'Gloom': 43, 'Golbat': 44, 'Goldeen': 45, 'Golduck': 46, 'Golem': 47, 'Graveler': 48, 'Grimer': 49, 'Growlithe': 50, 'Gyarados': 51, 'Haunter': 52, 'Hitmonchan': 53, 'Hitmonlee': 54, 'Horsea': 55, 'Hypno': 56, 'Ivysaur': 57, 'Jigglypuff': 58, 'Jolteon': 59, 'Jynx': 60, 'Kabuto': 61, 'Kabutops': 62, 'Kadabra': 63, 'Kakuna': 64, 'Kangaskhan': 65, 'Kingler': 66, 'Koffing': 67, 'Krabby': 68, 'Lapras': 69, 'Lickitung': 70, 'Machamp': 71, 'Machoke': 72, 'Machop': 73, 'Magikarp': 74, 'Magmar': 75, 'Magnemite': 76, 'Magneton': 77, 'Mankey': 78, 'Marowak': 79, 'Meowth': 80, 'Metapod': 81, 'Mew': 82, 'Mewtwo': 83, 'Moltres': 84, 'MrMime': 85, 'Muk': 86, 'Nidoking': 87, 'Nidoqueen': 88, 'Nidorina': 89, 'Nidorino': 90, 'Ninetales': 91, 'Oddish': 92, 'Omanyte': 93, 'Omastar': 94, 'Onix': 95, 'Paras': 96, 'Parasect': 97, 'Persian': 98, 'Pidgeot': 99, 'Pidgeotto': 100, 'Pidgey': 101, 'Pikachu': 102, 'Pinsir': 103, 'Poliwag': 104, 'Poliwhirl': 105, 'Poliwrath': 106, 'Ponyta': 107, 'Porygon': 108, 'Primeape': 109, 'Psyduck': 110, 'Raichu': 111, 'Rapidash': 112, 'Raticate': 113, 'Rattata': 114, 'Rhydon': 115, 'Rhyhorn': 116, 'Sandshrew': 117, 'Sandslash': 118, 'Scyther': 119, 'Seadra': 120, 'Seaking': 121, 'Seel': 122, 'Shellder': 123, 'Slowbro': 124, 'Slowpoke': 125, 'Snorlax': 126, 'Spearow': 127, 'Squirtle': 128, 'Starmie': 129, 'Staryu': 130, 'Tangela': 131, 'Tauros': 132, 'Tentacool': 133, 'Tentacruel': 134, 'Vaporeon': 135, 'Venomoth': 136, 'Venonat': 137, 'Venusaur': 138, 'Victreebel': 139, 'Vileplume': 140, 'Voltorb': 141, 'Vulpix': 142, 'Wartortle': 143, 'Weedle': 144, 'Weepinbell': 145, 'Weezing': 146, 'Wigglytuff': 147, 'Zapdos': 148, 'Zubat': 149}\n"
     ]
    }
   ],
   "source": [
    "# Length of Train and Test Datasets\n",
    "LEN_TRAIN = len(train_ds)\n",
    "LEN_TEST = len(test_ds)\n",
    "print(LEN_TRAIN, LEN_TEST)\n",
    "\n",
    "# Index Mapping\n",
    "print(train_ds.class_to_idx)"
   ]
  },
  {
   "cell_type": "code",
   "execution_count": 51,
   "metadata": {},
   "outputs": [],
   "source": [
    "# Data Loader\n",
    "train_loader = DataLoader(train_ds, batch_size = 64, shuffle=True)\n",
    "test_loader = DataLoader(test_ds, batch_size=64, shuffle = True)\n"
   ]
  },
  {
   "cell_type": "code",
   "execution_count": 52,
   "metadata": {},
   "outputs": [],
   "source": [
    "import torch.nn as nn"
   ]
  },
  {
   "cell_type": "code",
   "execution_count": 53,
   "metadata": {},
   "outputs": [],
   "source": [
    "class Pokemon_classfication(nn.Module):\n",
    "    def __init__(self):\n",
    "        super().__init__()\n",
    "        self.network = nn.Sequential(\n",
    "            nn.Conv2d(3, 32, kernel_size=3, padding=1), #32*64*64\n",
    "            nn.ReLU(),\n",
    "            nn.Conv2d(32, 64, kernel_size=3, stride=1, padding=1), #64*64*64\n",
    "            nn.ReLU(),\n",
    "            nn.MaxPool2d(4, 4), # output: 64 x 16 x 16\n",
    "\n",
    "            nn.Conv2d(64, 128, kernel_size=3, stride=1, padding=1),\n",
    "            nn.ReLU(),\n",
    "            nn.Conv2d(128, 128, kernel_size=3, stride=1, padding=1),\n",
    "            nn.ReLU(),\n",
    "            nn.MaxPool2d(2, 2), # output: 128 x 8 x 8\n",
    "\n",
    "            nn.Conv2d(128, 256, kernel_size=3, stride=1, padding=1),\n",
    "            nn.ReLU(),\n",
    "            nn.Conv2d(256, 256, kernel_size=3, stride=1, padding=1),\n",
    "            nn.ReLU(),\n",
    "            nn.MaxPool2d(2, 2), # output: 256 x 4 x 4\n",
    "\n",
    "            nn.Flatten(), \n",
    "            nn.Linear(256*4*4, 1024),\n",
    "            nn.ReLU(),\n",
    "            nn.Linear(1024, 512),\n",
    "            nn.ReLU(),\n",
    "            nn.Linear(512, 150))\n",
    "        \n",
    "    def forward(self, x):\n",
    "        return self.network(x)"
   ]
  },
  {
   "cell_type": "code",
   "execution_count": 54,
   "metadata": {},
   "outputs": [
    {
     "name": "stdout",
     "output_type": "stream",
     "text": [
      "cuda\n",
      "Pokemon_classfication(\n",
      "  (network): Sequential(\n",
      "    (0): Conv2d(3, 32, kernel_size=(3, 3), stride=(1, 1), padding=(1, 1))\n",
      "    (1): ReLU()\n",
      "    (2): Conv2d(32, 64, kernel_size=(3, 3), stride=(1, 1), padding=(1, 1))\n",
      "    (3): ReLU()\n",
      "    (4): MaxPool2d(kernel_size=4, stride=4, padding=0, dilation=1, ceil_mode=False)\n",
      "    (5): Conv2d(64, 128, kernel_size=(3, 3), stride=(1, 1), padding=(1, 1))\n",
      "    (6): ReLU()\n",
      "    (7): Conv2d(128, 128, kernel_size=(3, 3), stride=(1, 1), padding=(1, 1))\n",
      "    (8): ReLU()\n",
      "    (9): MaxPool2d(kernel_size=2, stride=2, padding=0, dilation=1, ceil_mode=False)\n",
      "    (10): Conv2d(128, 256, kernel_size=(3, 3), stride=(1, 1), padding=(1, 1))\n",
      "    (11): ReLU()\n",
      "    (12): Conv2d(256, 256, kernel_size=(3, 3), stride=(1, 1), padding=(1, 1))\n",
      "    (13): ReLU()\n",
      "    (14): MaxPool2d(kernel_size=2, stride=2, padding=0, dilation=1, ceil_mode=False)\n",
      "    (15): Flatten(start_dim=1, end_dim=-1)\n",
      "    (16): Linear(in_features=4096, out_features=1024, bias=True)\n",
      "    (17): ReLU()\n",
      "    (18): Linear(in_features=1024, out_features=512, bias=True)\n",
      "    (19): ReLU()\n",
      "    (20): Linear(in_features=512, out_features=150, bias=True)\n",
      "  )\n",
      ")\n"
     ]
    }
   ],
   "source": [
    "model = Pokemon_classfication()\n",
    "model = model.to(device=device)\n",
    "print(device)\n",
    "print(model)"
   ]
  },
  {
   "cell_type": "code",
   "execution_count": 55,
   "metadata": {},
   "outputs": [],
   "source": [
    "# Optimiser\n",
    "optimiser = Adam(model.parameters(), lr=3e-4, weight_decay=0.0001)\n",
    "\n",
    "# Loss Function\n",
    "loss_fn = CrossEntropyLoss()"
   ]
  },
  {
   "cell_type": "code",
   "execution_count": 56,
   "metadata": {},
   "outputs": [
    {
     "name": "stderr",
     "output_type": "stream",
     "text": [
      "100%|██████████| 95/95 [01:16<00:00,  1.25batch/s]\n"
     ]
    },
    {
     "name": "stdout",
     "output_type": "stream",
     "text": [
      "Epoch: 0, Time: 1.4500042915344238, Loss: 4.690192222595215\n",
      "Train_acc: 0.008401976935749587, Test_acc: 0.016\n"
     ]
    },
    {
     "name": "stderr",
     "output_type": "stream",
     "text": [
      "100%|██████████| 95/95 [00:56<00:00,  1.68batch/s]\n"
     ]
    },
    {
     "name": "stdout",
     "output_type": "stream",
     "text": [
      "Epoch: 1, Time: 1.0531286915143332, Loss: 4.152311325073242\n",
      "Train_acc: 0.030642504118616146, Test_acc: 0.05333333333333334\n"
     ]
    },
    {
     "name": "stderr",
     "output_type": "stream",
     "text": [
      "100%|██████████| 95/95 [00:57<00:00,  1.65batch/s]\n"
     ]
    },
    {
     "name": "stdout",
     "output_type": "stream",
     "text": [
      "Epoch: 2, Time: 1.069206424554189, Loss: 4.081177234649658\n",
      "Train_acc: 0.06672158154859967, Test_acc: 0.08533333333333333\n"
     ]
    }
   ],
   "source": [
    "for epoch in range(3):\n",
    "    start = time()\n",
    "    \n",
    "    tr_acc = 0\n",
    "    test_acc = 0\n",
    "    \n",
    "    # Train\n",
    "    model.train()\n",
    "    \n",
    "    with tqdm(train_loader, unit=\"batch\") as tepoch:\n",
    "        for xtrain, ytrain in tepoch:\n",
    "            optimiser.zero_grad()\n",
    "            \n",
    "            xtrain = xtrain.to(device)\n",
    "            train_prob = model(xtrain)\n",
    "            train_prob = train_prob.cpu()\n",
    "            \n",
    "            loss = loss_fn(train_prob, ytrain)\n",
    "            loss.backward()\n",
    "            optimiser.step()\n",
    "            \n",
    "            # training ends\n",
    "            \n",
    "            train_pred = torch.max(train_prob, 1).indices\n",
    "            tr_acc += int(torch.sum(train_pred == ytrain))\n",
    "            \n",
    "        ep_tr_acc = tr_acc / LEN_TRAIN\n",
    "    \n",
    "    # Evaluate\n",
    "    model.eval()\n",
    "    with torch.no_grad():\n",
    "        for xtest, ytest in test_loader:\n",
    "            xtest = xtest.to(device)\n",
    "            test_prob = model(xtest)\n",
    "            test_prob = test_prob.cpu()\n",
    "            \n",
    "            test_pred = torch.max(test_prob,1).indices\n",
    "            test_acc += int(torch.sum(test_pred == ytest))\n",
    "            \n",
    "        ep_test_acc = test_acc / LEN_TEST\n",
    "    \n",
    "    end = time()\n",
    "    duration = (end - start) / 60\n",
    "    \n",
    "    print(f\"Epoch: {epoch}, Time: {duration}, Loss: {loss}\\nTrain_acc: {ep_tr_acc}, Test_acc: {ep_test_acc}\")"
   ]
  },
  {
   "cell_type": "code",
   "execution_count": 58,
   "metadata": {},
   "outputs": [],
   "source": [
    "sample_1 = r'C:\\Users\\Vishal Kagade\\Desktop\\CAR Classification\\CarData\\download_1.jpg'\n",
    "sample_2 =  r'C:\\Users\\Vishal Kagade\\Desktop\\CAR Classification\\CarData\\download.jpg'\n",
    "sample_list = [sample_1,sample_2]"
   ]
  },
  {
   "cell_type": "code",
   "execution_count": 59,
   "metadata": {},
   "outputs": [
    {
     "data": {
      "image/png": "[encoded data removed]",
      "text/plain": [
       "<PIL.Image.Image image mode=RGB size=64x64 at 0x1A899AFEE80>"
      ]
     },
     "metadata": {},
     "output_type": "display_data"
    },
    {
     "name": "stdout",
     "output_type": "stream",
     "text": [
      "Vaporeon\n",
      "========================================================\n"
     ]
    },
    {
     "data": {
      "image/png": "[encoded data removed]",
      "text/plain": [
       "<PIL.Image.Image image mode=RGB size=64x64 at 0x1A8A7FCEF10>"
      ]
     },
     "metadata": {},
     "output_type": "display_data"
    },
    {
     "name": "stdout",
     "output_type": "stream",
     "text": [
      "Charmander\n",
      "========================================================\n"
     ]
    }
   ],
   "source": [
    "# Model Performance\n",
    "from PIL import Image\n",
    "import numpy as np\n",
    "\n",
    "for image_path in sample_list:\n",
    "    img = Image.open(image_path)\n",
    "    display(img.resize((64,64)))\n",
    "    img_tensor = tfm(img)\n",
    "    img_tensor = img_tensor[np.newaxis, :]\n",
    "    img_tensor = img_tensor.to(device)\n",
    "    pred_prob = model(img_tensor)\n",
    "    pred = torch.max(pred_prob,1).indices\n",
    "    pred = pred.item()\n",
    "    print(train_ds.classes[pred])\n",
    "    print(\"========================================================\")"
   ]
  },
  {
   "cell_type": "code",
   "execution_count": null,
   "metadata": {},
   "outputs": [],
   "source": []
  }
 ],
 "metadata": {
  "kernelspec": {
   "display_name": "Python 3.9.12 ('base')",
   "language": "python",
   "name": "python3"
  },
  "language_info": {
   "codemirror_mode": {
    "name": "ipython",
    "version": 3
   },
   "file_extension": ".py",
   "mimetype": "text/x-python",
   "name": "python",
   "nbconvert_exporter": "python",
   "pygments_lexer": "ipython3",
   "version": "3.9.12"
  },
  "orig_nbformat": 4,
  "vscode": {
   "interpreter": {
    "hash": "d7288e82646d3164eca24130947288f8779d11454649f2c02a5dfc42af7f324c"
   }
  }
 },
 "nbformat": 4,
 "nbformat_minor": 2
}
